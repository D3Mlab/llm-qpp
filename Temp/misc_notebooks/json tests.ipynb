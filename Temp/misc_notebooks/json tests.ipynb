{
 "cells": [
  {
   "cell_type": "code",
   "execution_count": 13,
   "id": "c0807226-72f5-4c99-9461-c3551519a087",
   "metadata": {
    "scrolled": true
   },
   "outputs": [],
   "source": [
    "import json\n",
    "import pandas as pd"
   ]
  },
  {
   "cell_type": "code",
   "execution_count": 3,
   "id": "82aac310-97c7-4878-8438-bfbff84405cc",
   "metadata": {},
   "outputs": [],
   "source": [
    "input_file = 'subset_q100_d10000/collection.json'\n",
    "output_file = 'subset_q100_d10000/collection.jsonl'\n",
    "\n",
    "with open(input_file, 'r') as infile, open(output_file, 'w') as outfile:\n",
    "    data = json.load(infile)\n",
    "\n",
    "    # Iterate over the top-level keys and write each nested structure on a new line\n",
    "    for key, value in data.items():\n",
    "        json_line = json.dumps({key: value})\n",
    "        outfile.write(json_line + '\\n')"
   ]
  },
  {
   "cell_type": "code",
   "execution_count": 21,
   "id": "2d7adcc5-962a-4dd5-bf55-0b73fe85a659",
   "metadata": {},
   "outputs": [],
   "source": [
    "chunks = pd.read_json('test_ndjson.jsonl', lines=True, chunksize=2)"
   ]
  },
  {
   "cell_type": "code",
   "execution_count": 22,
   "id": "5d782d28-f5eb-4ba8-a77d-2e79e1ea2593",
   "metadata": {},
   "outputs": [
    {
     "name": "stdout",
     "output_type": "stream",
     "text": [
      "{'k_11': 'val_11', 'k_12': {'k_121': 'val_121', 'k_122': 'val_122'}}\n"
     ]
    }
   ],
   "source": [
    "for chunk in chunks:\n",
    "    print(chunk.iloc[0][0])"
   ]
  }
 ],
 "metadata": {
  "kernelspec": {
   "display_name": "Python 3 (ipykernel)",
   "language": "python",
   "name": "python3"
  },
  "language_info": {
   "codemirror_mode": {
    "name": "ipython",
    "version": 3
   },
   "file_extension": ".py",
   "mimetype": "text/x-python",
   "name": "python",
   "nbconvert_exporter": "python",
   "pygments_lexer": "ipython3",
   "version": "3.10.11"
  }
 },
 "nbformat": 4,
 "nbformat_minor": 5
}
