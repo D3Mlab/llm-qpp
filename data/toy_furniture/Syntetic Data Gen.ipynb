{
 "cells": [
  {
   "cell_type": "code",
   "execution_count": 8,
   "id": "d84710c9-6c28-43ac-b981-7e5da455e7ba",
   "metadata": {},
   "outputs": [],
   "source": [
    "import itertools\n",
    "import json\n",
    "import random\n",
    "import csv\n",
    "import os"
   ]
  },
  {
   "cell_type": "code",
   "execution_count": 2,
   "id": "c12eb010-7a5f-4d19-965f-7b7ecbbcac68",
   "metadata": {},
   "outputs": [],
   "source": [
    "#dict of feature names and their domains (collection (list, set, range) of values for each variable) \n",
    "#{f1: {f1_v1,f1_v2,...}, f2: {...}}\n",
    "#e.g. {\"size\" : [\"s\",\"m\",\"l\"], \"material\" : {\"leather\", \"cotton\", ...}}\n",
    "#Note, an item might need to take on multiple values for various features, e.g. material: cotton+leather+... . Perhaps these should be LLM generated...\n",
    "\n",
    "toy_furniture_aspect_dict = {\n",
    "    \"type\": [\"table\", \"bed\", \"chair\", \"dresser\", \"nightstand\", \"couch\"],\n",
    "    \"style\": [\"modern\", \"vintage\", \"classic\", \"beachhouse\", \"cottage\"],\n",
    "    \"color\": [\"black\", \"white\", \"blue\", \"red\", \"purple\", \"green\", \"yellow\", \"orange\"],\n",
    "}\n",
    "\n",
    "toy_furniture_synonym_dict = {\n",
    "    \"type\": [\"desk\", \"bunk\", \"stool\", \"chest\", \"bedstand\", \"loveseat\"],\n",
    "    \"style\": [\"sleek\", \"retro\", \"timeless\", \"coastal\", \"rustic\"],\n",
    "    \"color\": [\"charcoal\", \"ivory\", \"cobalt\", \"burgundy\", \"plum\", \"emerald\", \"gold\", \"bronze\"],\n",
    "} "
   ]
  },
  {
   "cell_type": "code",
   "execution_count": 9,
   "id": "cf333890-79a8-4454-82b8-04ca28bf782a",
   "metadata": {},
   "outputs": [],
   "source": [
    "# Function to write all permutations of the aspect dictionary to a JSON file\n",
    "def write_all_permutations(aspect_dict, key_order, filename):\n",
    "    # Create all permutations of the feature combinations based on the given key order\n",
    "    aspect_values = [aspect_dict[key] for key in key_order]\n",
    "    permutations = list(itertools.product(*aspect_values))\n",
    "    \n",
    "    # Create a dictionary in the format {docID: {'text': \"<color> <style> <type>\"}}\n",
    "    data = {}\n",
    "    for i, values in enumerate(permutations):\n",
    "        doc_id = f\"d{i+1}\"\n",
    "        text = \" \".join(values)\n",
    "        data[doc_id] = {'text': text}\n",
    "    \n",
    "    # Write data to JSON file\n",
    "    with open(filename, 'w') as json_file:\n",
    "        json.dump(data, json_file, indent=4)\n",
    "    \n",
    "    return data"
   ]
  },
  {
   "cell_type": "code",
   "execution_count": 6,
   "id": "4a05bdbb-7a4f-49f7-808c-eca106a09a40",
   "metadata": {},
   "outputs": [],
   "source": [
    "\n",
    "def write_all_permutations_ndjson(aspect_dict, key_order, filename):\n",
    "    # Create all permutations of the feature combinations based on the given key order\n",
    "    aspect_values = [aspect_dict[key] for key in key_order]\n",
    "    permutations = list(itertools.product(*aspect_values))\n",
    "\n",
    "    # Ensure the directory exists before writing to the file\n",
    "    os.makedirs(os.path.dirname(filename), exist_ok=True)\n",
    "    \n",
    "    data = {}\n",
    "    # Write each permutation as a JSON object in a new line to the NDJSON file\n",
    "    with open(filename, 'w') as ndjson_file:\n",
    "        for i, values in enumerate(permutations):\n",
    "            doc_id = f\"d{i + 1}\"\n",
    "            text = \" \".join(values)\n",
    "            data[doc_id] = {'text': text}\n",
    "            ndjson_file.write(json.dumps({'docID': doc_id, 'text': text}) + '\\n')\n",
    "    \n",
    "    return data\n"
   ]
  },
  {
   "cell_type": "code",
   "execution_count": 17,
   "id": "27092762-fdad-491f-be6f-5a37b4c28cfd",
   "metadata": {},
   "outputs": [],
   "source": [
    "# Generate keyword data\n",
    "data = write_all_permutations_ndjson(toy_furniture_aspect_dict, [\"color\", \"style\", \"type\"], 'keywords/collection.jsonl')\n",
    "\n",
    "# Generate synonym data by replacing keywords with synonyms using the same order as the original dictionary\n",
    "synonym_data = write_all_permutations_ndjson(toy_furniture_synonym_dict, [\"color\", \"style\", \"type\"], 'synonyms/collection.jsonl')"
   ]
  },
  {
   "cell_type": "code",
   "execution_count": 18,
   "id": "709ee41e-4efc-4fdb-abdb-4d620675f47f",
   "metadata": {},
   "outputs": [],
   "source": [
    "#select 10 random docs to serve as (pseudo) queries - these should be trivial on the initial corpus\n",
    "random.seed(72)\n",
    "docID_sample = random.sample(list(data.keys()), 10)\n",
    "random_toy_furniture_keyword_queries = {f'q{docID}': data[docID]['text'] for docID in docID_sample}\n",
    "\n",
    "# Write the queries to a JSON file\n",
    "with open('keywords/queries.tsv', 'w', newline='') as file:\n",
    "    writer = csv.writer(file,delimiter = '\\t')\n",
    "    for q_id, q_text in random_toy_furniture_keyword_queries.items():\n",
    "        writer.writerow([q_id, q_text])\n",
    "\n",
    "# Generate qrels file for keyword queries\n",
    "# Format: <qID> 0 <dID> <relevance>\n",
    "qrels_entries = []\n",
    "for qID, query_text in random_toy_furniture_keyword_queries.items():\n",
    "    qrels_entries.append(f\"{qID} 0 {qID[1:]} 1\")\n",
    "\n",
    "# Write qrels to a file\n",
    "filepath = \"keywords/qrels.qrels\"\n",
    "with open(filepath, 'w') as qrels_file:\n",
    "    for entry in qrels_entries:\n",
    "        qrels_file.write(entry + '\\n')"
   ]
  },
  {
   "cell_type": "code",
   "execution_count": 20,
   "id": "14720513-d201-4d2a-ae1f-3c74092b1479",
   "metadata": {},
   "outputs": [],
   "source": [
    "\n",
    "# Generate synonym queries by looking up sampled docIDs in synonym data\n",
    "random_toy_furniture_synonym_queries = {qID: synonym_data[docID]['text'] for qID, docID in zip(random_toy_furniture_keyword_queries.keys(), docID_sample)}\n",
    "\n",
    "# Write the synonym queries to a JSON file\n",
    "with open('synonyms/queries.tsv', 'w', newline='') as file:\n",
    "    writer = csv.writer(file,delimiter = '\\t')\n",
    "    for q_id, q_text in random_toy_furniture_synonym_queries.items():\n",
    "        writer.writerow([q_id, q_text])\n",
    "\n",
    "# Generate qrels file for synonym queries\n",
    "qrels_synonym_entries = []\n",
    "for qID in random_toy_furniture_synonym_queries.keys():\n",
    "    qrels_synonym_entries.append(f\"{qID} 0 {qID[1:]} 1\")\n",
    "\n",
    "# Write synonym qrels to a file\n",
    "synonym_filepath = \"synonyms/qrels.qrels\"\n",
    "with open(synonym_filepath, 'w') as qrels_file:\n",
    "    for entry in qrels_synonym_entries:\n",
    "        qrels_file.write(entry + '\\n')\n"
   ]
  },
  {
   "cell_type": "code",
   "execution_count": 56,
   "id": "f22ac18e-b09a-4c28-b419-2b80e1f9e591",
   "metadata": {},
   "outputs": [],
   "source": []
  }
 ],
 "metadata": {
  "kernelspec": {
   "display_name": "Python 3 (ipykernel)",
   "language": "python",
   "name": "python3"
  },
  "language_info": {
   "codemirror_mode": {
    "name": "ipython",
    "version": 3
   },
   "file_extension": ".py",
   "mimetype": "text/x-python",
   "name": "python",
   "nbconvert_exporter": "python",
   "pygments_lexer": "ipython3",
   "version": "3.10.11"
  }
 },
 "nbformat": 4,
 "nbformat_minor": 5
}
